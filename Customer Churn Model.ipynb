{
 "cells": [
  {
   "cell_type": "markdown",
   "id": "3a53b519-8457-41e1-bd42-c9fd3425c80f",
   "metadata": {},
   "source": [
    "# PROJECT SCOPE\n",
    "\n",
    "The scope of this project in this code base is to build a customer churn model; here, we will be using the bank churn data, and for this model, we will be focusing on companies in the financial services sector. for this and the remaining model we will be using the BankChurners.csv file saved in the Datasets folder.\n",
    "\n",
    "Customer churn is the percentage of customers who stopped purchasing your business's products or services during a certain period of time"
   ]
  },
  {
   "cell_type": "code",
   "execution_count": null,
   "id": "cf9d0508-a961-416c-84ef-b6e6e7cedd96",
   "metadata": {},
   "outputs": [],
   "source": []
  },
  {
   "cell_type": "markdown",
   "id": "c0391111-1329-4200-98db-545d002a8d69",
   "metadata": {},
   "source": [
    "# IMPORTING THE NECESSARY PACKAGES"
   ]
  },
  {
   "cell_type": "code",
   "execution_count": 1,
   "id": "1924a8bf-fab6-4f8b-ad98-e35638f0a8bf",
   "metadata": {},
   "outputs": [],
   "source": [
    "import os\n",
    "import pandas as pd\n",
    "import numpy as np\n",
    "from sklearn.model_selection import train_test_split\n",
    "from sklearn.preprocessing import LabelEncoder, StandardScaler\n",
    "from sklearn.linear_model import LogisticRegression\n",
    "from sklearn.ensemble import RandomForestClassifier, GradientBoostingClassifier\n",
    "from sklearn.neural_network import MLPClassifier\n",
    "from sklearn.metrics import accuracy_score, roc_auc_score, classification_report\n",
    "from sklearn.inspection import permutation_importance\n",
    "from imblearn.over_sampling import SMOTE\n",
    "import joblib"
   ]
  },
  {
   "cell_type": "markdown",
   "id": "bc11477e-ebc9-4b04-a1e6-292ce59b567b",
   "metadata": {},
   "source": [
    "# LOADING THE DATA"
   ]
  },
  {
   "cell_type": "code",
   "execution_count": 2,
   "id": "b6a82d7b-7131-43da-9dbd-d68ed45fa28c",
   "metadata": {},
   "outputs": [],
   "source": [
    "# Defining file paths\n",
    "file_path = r'/Users/abduljalaalabubakar/Desktop/Projects/Symply Finance/Customer Insight Model/Fintech Customer Insight Model/Datasets/Bank Churn Dataset/BankChurners.csv'\n",
    "model_folder_path = r'/Users/abduljalaalabubakar/Desktop/Projects/Symply Finance/Customer Insight Model/Fintech Customer Insight Model/Customer_Churn_Best_Models'\n",
    "os.makedirs(model_folder_path, exist_ok=True)\n",
    "\n",
    "# Load dataset\n",
    "data = pd.read_csv(file_path)"
   ]
  },
  {
   "cell_type": "markdown",
   "id": "0bdf935f-c81b-4bfd-a2de-1f630a690b09",
   "metadata": {},
   "source": [
    "# DATA INVESTIGATION"
   ]
  },
  {
   "cell_type": "code",
   "execution_count": 3,
   "id": "21608d46-6af5-449e-a5ae-2217a7f8f0a1",
   "metadata": {},
   "outputs": [
    {
     "name": "stdout",
     "output_type": "stream",
     "text": [
      "\n",
      "High Correlation Features:\n",
      "Attrition_Flag                                                                                                                        1.000000\n",
      "Naive_Bayes_Classifier_Attrition_Flag_Card_Category_Contacts_Count_12_mon_Dependent_count_Education_Level_Months_Inactive_12_mon_1    0.999989\n",
      "Contacts_Count_12_mon                                                                                                                 0.204491\n",
      "Months_Inactive_12_mon                                                                                                                0.152449\n",
      "Gender                                                                                                                                0.037272\n",
      "Education_Level                                                                                                                       0.025966\n",
      "Dependent_count                                                                                                                       0.018991\n",
      "Customer_Age                                                                                                                          0.018203\n",
      "Marital_Status                                                                                                                        0.016605\n",
      "Months_on_book                                                                                                                        0.013687\n",
      "Name: Attrition_Flag, dtype: float64\n",
      "\n",
      "Low Correlation Features:\n",
      "Credit_Limit                                                                                                                         -0.023873\n",
      "CLIENTNUM                                                                                                                            -0.046430\n",
      "Total_Amt_Chng_Q4_Q1                                                                                                                 -0.131063\n",
      "Total_Relationship_Count                                                                                                             -0.150005\n",
      "Total_Trans_Amt                                                                                                                      -0.168598\n",
      "Avg_Utilization_Ratio                                                                                                                -0.178410\n",
      "Total_Revolving_Bal                                                                                                                  -0.263053\n",
      "Total_Ct_Chng_Q4_Q1                                                                                                                  -0.290054\n",
      "Total_Trans_Ct                                                                                                                       -0.371403\n",
      "Naive_Bayes_Classifier_Attrition_Flag_Card_Category_Contacts_Count_12_mon_Dependent_count_Education_Level_Months_Inactive_12_mon_2   -0.999989\n",
      "Name: Attrition_Flag, dtype: float64\n"
     ]
    }
   ],
   "source": [
    "# Checking for missing values\n",
    "missing_values = data.isnull().sum()\n",
    "\n",
    "# Checking the class distribution\n",
    "class_distribution = data['Attrition_Flag'].value_counts(normalize=True) * 100\n",
    "\n",
    "# Encoding the categorical variables for correlation analysis\n",
    "data_encoded = data.copy()\n",
    "for column in data_encoded.select_dtypes(include=['object']).columns:\n",
    "    data_encoded[column] = pd.factorize(data_encoded[column])[0]\n",
    "\n",
    "# Correlation analysis\n",
    "correlations = data_encoded.corr()['Attrition_Flag'].sort_values(ascending=False)\n",
    "print(\"\\nHigh Correlation Features:\")\n",
    "print(correlations.head(10))\n",
    "print(\"\\nLow Correlation Features:\")\n",
    "print(correlations.tail(10))\n",
    "\n",
    "# Checking for duplicates\n",
    "duplicate_rows = data.duplicated().sum()"
   ]
  },
  {
   "cell_type": "markdown",
   "id": "3784204b-d5e9-4269-a5c0-9bd8fd8772ae",
   "metadata": {},
   "source": [
    "# CLEANING AND BALANCING THE DATA"
   ]
  },
  {
   "cell_type": "code",
   "execution_count": 4,
   "id": "2e48b8b5-e9f7-4364-a5de-694f8bafb252",
   "metadata": {},
   "outputs": [
    {
     "name": "stdout",
     "output_type": "stream",
     "text": [
      "\n",
      "Class Distribution After Balancing:\n",
      "Attrition_Flag\n",
      "1    50.0\n",
      "0    50.0\n",
      "Name: proportion, dtype: float64\n"
     ]
    }
   ],
   "source": [
    "# Data Cleaning and Balancing\n",
    "# DropPING irrelevant columns\n",
    "columns_to_drop = ['CLIENTNUM', 'Naive_Bayes_Classifier_Attrition_Flag_Card_Category_Contacts_Count_12_mon_Dependent_count_Education_Level_Months_Inactive_12_mon_1',\n",
    "                   'Naive_Bayes_Classifier_Attrition_Flag_Card_Category_Contacts_Count_12_mon_Dependent_count_Education_Level_Months_Inactive_12_mon_2']\n",
    "data = data.drop(columns=columns_to_drop, errors='ignore')\n",
    "\n",
    "# Encoding categorical variables\n",
    "label_encoders = {}\n",
    "for column in data.select_dtypes(include=['object']).columns:\n",
    "    le = LabelEncoder()\n",
    "    data[column] = le.fit_transform(data[column])\n",
    "    label_encoders[column] = le\n",
    "\n",
    "# Balancing the dataset using SMOTE\n",
    "X = data.drop('Attrition_Flag', axis=1)\n",
    "y = data['Attrition_Flag']\n",
    "smote = SMOTE(random_state=42)\n",
    "X_balanced, y_balanced = smote.fit_resample(X, y)\n",
    "\n",
    "# Checking the class distribution after balancing\n",
    "balanced_class_distribution = pd.Series(y_balanced).value_counts(normalize=True) * 100\n",
    "print(\"\\nClass Distribution After Balancing:\")\n",
    "print(balanced_class_distribution)"
   ]
  },
  {
   "cell_type": "markdown",
   "id": "39263e8e-8b14-44ec-8efb-c03cec0f3d0d",
   "metadata": {},
   "source": [
    "# TRAINING THE DATA "
   ]
  },
  {
   "cell_type": "code",
   "execution_count": null,
   "id": "a2e6644f-4598-4cda-82b9-9f38ef7821d8",
   "metadata": {},
   "outputs": [
    {
     "name": "stdout",
     "output_type": "stream",
     "text": [
      "\n",
      "### Model Training and Evaluation ###\n",
      "Training Logistic Regression...\n",
      "Training Random Forest...\n",
      "Training Gradient Boosting...\n",
      "Training Neural Network...\n"
     ]
    }
   ],
   "source": [
    "# Standardizing the numerical features\n",
    "scaler = StandardScaler()\n",
    "X_balanced = scaler.fit_transform(X_balanced)\n",
    "\n",
    "#Train-Test Split\n",
    "X_train, X_test, y_train, y_test = train_test_split(X_balanced, y_balanced, test_size=0.3, random_state=42)\n",
    "\n",
    "#Model Training and Evaluation\n",
    "print(\"\\n### Model Training and Evaluation ###\")\n",
    "models = {\n",
    "    \"Logistic Regression\": LogisticRegression(max_iter=300),\n",
    "    \"Random Forest\": RandomForestClassifier(),\n",
    "    \"Gradient Boosting\": GradientBoostingClassifier(),\n",
    "    \"Neural Network\": MLPClassifier(max_iter=300)\n",
    "}\n",
    "\n",
    "best_model = None\n",
    "best_score = 0\n",
    "results = {}\n",
    "\n",
    "for name, model in models.items():\n",
    "    print(f\"Training {name}...\")\n",
    "    model.fit(X_train, y_train)\n",
    "    y_pred = model.predict(X_test)\n",
    "    y_prob = model.predict_proba(X_test)[:, 1] if hasattr(model, \"predict_proba\") else None\n",
    "    accuracy = accuracy_score(y_test, y_pred)\n",
    "    auc = roc_auc_score(y_test, y_prob) if y_prob is not None else None\n",
    "\n",
    "    # Saving the metrics\n",
    "    results[name] = {\n",
    "        \"Accuracy\": accuracy,\n",
    "        \"AUC\": auc,\n",
    "        \"Classification Report\": classification_report(y_test, y_pred)\n",
    "    }\n",
    "\n",
    "    # Updating the best model\n",
    "    if accuracy > best_score:\n",
    "        best_score = accuracy\n",
    "        best_model = model"
   ]
  },
  {
   "cell_type": "markdown",
   "id": "d987fc41-9cfe-4873-b7aa-c0c539f51628",
   "metadata": {},
   "source": [
    "# SAVING THE BEST MODEL"
   ]
  },
  {
   "cell_type": "code",
   "execution_count": null,
   "id": "2647dfc5-9620-44f1-a2ea-02c7e88ff116",
   "metadata": {},
   "outputs": [],
   "source": [
    "# Saving the best model\n",
    "best_model_path = os.path.join(model_folder_path, \"best_churn_model.pkl\")\n",
    "joblib.dump(best_model, best_model_path)\n",
    "print(f\"\\nBest model saved to: {best_model_path}\")"
   ]
  },
  {
   "cell_type": "markdown",
   "id": "c8b3c940-0224-4112-b765-8f87efb5f16e",
   "metadata": {},
   "source": [
    "# DISPLAYING THE RESULT"
   ]
  },
  {
   "cell_type": "code",
   "execution_count": null,
   "id": "0355fbb1-4068-4082-bb01-d9bec7e6951a",
   "metadata": {},
   "outputs": [],
   "source": [
    "# Displaying the results\n",
    "for name, metrics in results.items():\n",
    "    print(f\"\\nModel: {name}\")\n",
    "    print(f\"Accuracy: {metrics['Accuracy']}\")\n",
    "    if metrics[\"AUC\"]:\n",
    "        print(f\"AUC: {metrics['AUC']}\")\n",
    "    print(f\"Classification Report:\\n{metrics['Classification Report']}\")\n",
    "\n",
    "# Feature Validation with Permutation Importance\n",
    "print(\"\\n### Feature Validation with Permutation Importance ###\")\n",
    "from sklearn.inspection import permutation_importance\n",
    "perm_importance = permutation_importance(best_model, X_test, y_test, scoring='accuracy', n_repeats=10, random_state=42)\n",
    "\n",
    "feature_importances = pd.DataFrame({\n",
    "    'Feature': X.columns,\n",
    "    'Importance': perm_importance.importances_mean\n",
    "}).sort_values(by='Importance', ascending=False)\n",
    "print(\"\\nTop Features Based on Permutation Importance:\")\n",
    "print(feature_importances.head())"
   ]
  },
  {
   "cell_type": "markdown",
   "id": "e2d8cb8b-8db3-4218-938b-383f6a9113e4",
   "metadata": {},
   "source": [
    "# NEXT STEPS\n",
    "\n",
    "Data Integration: Develop ingestion pipelines for customer data. Real-Time Feature Engineering: Create dynamic processes for feature updates. Model Deployment: Build and deploy a scalable API for churn prediction. Feedback Loop: Implement systems to capture outcomes and retrain the model. Business Alignment: Define clear interventions based on model predictions"
   ]
  },
  {
   "cell_type": "code",
   "execution_count": null,
   "id": "ae147aad-6e9e-49c2-a4ef-88eca5e7cbe5",
   "metadata": {},
   "outputs": [],
   "source": []
  }
 ],
 "metadata": {
  "kernelspec": {
   "display_name": "Python 3 (ipykernel)",
   "language": "python",
   "name": "python3"
  },
  "language_info": {
   "codemirror_mode": {
    "name": "ipython",
    "version": 3
   },
   "file_extension": ".py",
   "mimetype": "text/x-python",
   "name": "python",
   "nbconvert_exporter": "python",
   "pygments_lexer": "ipython3",
   "version": "3.10.10"
  }
 },
 "nbformat": 4,
 "nbformat_minor": 5
}
